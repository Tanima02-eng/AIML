{
 "cells": [
  {
   "cell_type": "markdown",
   "metadata": {},
   "source": [
    "<h4> KNN CLASIFICATION PROBLEM SOLVE </h4>\n",
    "<h6> Author : Tanima Sinha</h6>"
   ]
  },
  {
   "cell_type": "code",
   "execution_count": null,
   "metadata": {},
   "outputs": [],
   "source": [
    "import pandas as pd\n",
    "import numpy as np\n",
    "import pandas as pd\n",
    "import seaborn as sns\n",
    "import matplotlib.pyplot as plt\n",
    "import warnings\n",
    "warnings.filterwarnings('ignore')"
   ]
  },
  {
   "cell_type": "code",
   "execution_count": 6,
   "metadata": {
    "scrolled": false
   },
   "outputs": [
    {
     "data": {
      "text/html": [
       "<div>\n",
       "<style scoped>\n",
       "    .dataframe tbody tr th:only-of-type {\n",
       "        vertical-align: middle;\n",
       "    }\n",
       "\n",
       "    .dataframe tbody tr th {\n",
       "        vertical-align: top;\n",
       "    }\n",
       "\n",
       "    .dataframe thead th {\n",
       "        text-align: right;\n",
       "    }\n",
       "</style>\n",
       "<table border=\"1\" class=\"dataframe\">\n",
       "  <thead>\n",
       "    <tr style=\"text-align: right;\">\n",
       "      <th></th>\n",
       "      <th>Age</th>\n",
       "      <th>YOT</th>\n",
       "      <th>NPA</th>\n",
       "      <th>Survival</th>\n",
       "    </tr>\n",
       "  </thead>\n",
       "  <tbody>\n",
       "    <tr>\n",
       "      <td>0</td>\n",
       "      <td>30</td>\n",
       "      <td>64</td>\n",
       "      <td>1</td>\n",
       "      <td>1</td>\n",
       "    </tr>\n",
       "    <tr>\n",
       "      <td>1</td>\n",
       "      <td>30</td>\n",
       "      <td>62</td>\n",
       "      <td>3</td>\n",
       "      <td>1</td>\n",
       "    </tr>\n",
       "    <tr>\n",
       "      <td>2</td>\n",
       "      <td>30</td>\n",
       "      <td>65</td>\n",
       "      <td>0</td>\n",
       "      <td>1</td>\n",
       "    </tr>\n",
       "    <tr>\n",
       "      <td>3</td>\n",
       "      <td>31</td>\n",
       "      <td>59</td>\n",
       "      <td>2</td>\n",
       "      <td>1</td>\n",
       "    </tr>\n",
       "    <tr>\n",
       "      <td>4</td>\n",
       "      <td>31</td>\n",
       "      <td>65</td>\n",
       "      <td>4</td>\n",
       "      <td>1</td>\n",
       "    </tr>\n",
       "  </tbody>\n",
       "</table>\n",
       "</div>"
      ],
      "text/plain": [
       "   Age  YOT  NPA  Survival\n",
       "0   30   64    1         1\n",
       "1   30   62    3         1\n",
       "2   30   65    0         1\n",
       "3   31   59    2         1\n",
       "4   31   65    4         1"
      ]
     },
     "execution_count": 6,
     "metadata": {},
     "output_type": "execute_result"
    }
   ],
   "source": [
    "'''\n",
    "Reading Data in pandas dataframe \n",
    "'''\n",
    "col=['Age','YOT','NPA','Survival']\n",
    "df=pd.read_csv('./haberman.data',sep=',',names=col)\n",
    "df.head()"
   ]
  },
  {
   "cell_type": "code",
   "execution_count": 7,
   "metadata": {
    "scrolled": false
   },
   "outputs": [
    {
     "data": {
      "image/png": "[encoded data removed]",
      "text/plain": [
       "<Figure size 432x288 with 1 Axes>"
      ]
     },
     "metadata": {
      "needs_background": "light"
     },
     "output_type": "display_data"
    }
   ],
   "source": [
    "# ax = df['NPA'].plot.kde()\n",
    "# ax.set_ylabel(\"NPA Density\")\n",
    "\n",
    "\n",
    "# bx = df['YOT'].plot.kde()\n",
    "# bx.set_ylabel(\"YOT Density\")\n",
    "\n",
    "\n",
    "# cx = df['Age'].plot.kde()\n",
    "# cx.set_ylabel(\"Age Density\")\n",
    "\n",
    "\n",
    "# cx = df['Survival'].plot.kde()\n",
    "# cx.set_ylabel(\"Survival Density\")\n",
    "\n",
    "ax = df.plot.kde()\n"
   ]
  },
  {
   "cell_type": "code",
   "execution_count": 8,
   "metadata": {
    "scrolled": true
   },
   "outputs": [
    {
     "data": {
      "text/plain": [
       "(array([ 5.,  0.,  9.,  2.,  8., 10.,  9., 10., 20.,  7., 16., 11., 17.,\n",
       "        12., 20., 11., 23.,  7., 11., 15.,  6., 16.,  8., 15.,  5.,  8.,\n",
       "         4.,  8.,  4.,  4.,  1.,  2.,  1.,  0.,  0.,  1.]),\n",
       " array([30.        , 31.47222222, 32.94444444, 34.41666667, 35.88888889,\n",
       "        37.36111111, 38.83333333, 40.30555556, 41.77777778, 43.25      ,\n",
       "        44.72222222, 46.19444444, 47.66666667, 49.13888889, 50.61111111,\n",
       "        52.08333333, 53.55555556, 55.02777778, 56.5       , 57.97222222,\n",
       "        59.44444444, 60.91666667, 62.38888889, 63.86111111, 65.33333333,\n",
       "        66.80555556, 68.27777778, 69.75      , 71.22222222, 72.69444444,\n",
       "        74.16666667, 75.63888889, 77.11111111, 78.58333333, 80.05555556,\n",
       "        81.52777778, 83.        ]),\n",
       " <a list of 36 Patch objects>)"
      ]
     },
     "execution_count": 8,
     "metadata": {},
     "output_type": "execute_result"
    },
    {
     "data": {
      "image/png": "[encoded data removed]",
      "text/plain": [
       "<Figure size 432x288 with 1 Axes>"
      ]
     },
     "metadata": {
      "needs_background": "light"
     },
     "output_type": "display_data"
    }
   ],
   "source": [
    "# matplotlib histogram\n",
    "plt.hist(df['Age'], color = 'red', edgecolor = 'black',\n",
    "         bins = int(180/5))"
   ]
  },
  {
   "cell_type": "markdown",
   "metadata": {},
   "source": [
    "<h4>\n",
    "Hence the above distrivution graph shows that except Survival all the others points are linearly distributed \n",
    "only the Survival data was ploted as catagorically , so the target variable is the Survival and others are indipendent variable \n",
    "</h4>\n"
   ]
  },
  {
   "cell_type": "code",
   "execution_count": 24,
   "metadata": {},
   "outputs": [],
   "source": [
    "df.head(20)\n",
    "# df =df.fillna(0)\n",
    "df = df.replace(0, np.NaN)\n",
    "# # df['Age']=df['Age'].fillna(df['Age'].mean())\n",
    "\n",
    "# # df['YOT']=df['YOT'].fillna(df['YOT'].mean())\n",
    "\n",
    "# # df['NPA']=df['NPA'].fillna(df['NPA'].mean())\n",
    "\n",
    "'''\n",
    "Preparing test set and traning set in 80% 20% ratio \n",
    "'''\n",
    "\n",
    "\n",
    "df2=df.dropna(inplace=False)\n",
    "df2.head(20)\n",
    "from sklearn.model_selection import train_test_split\n",
    "\n",
    "# #Seperate features and label\n",
    "features = df2.iloc[:,0:3].values \n",
    "label = df2.iloc[:,[3]].values\n",
    "\n",
    "\n",
    "# features\n",
    "# # label\n",
    "\n",
    "X_train,X_test,y_train,y_test=train_test_split(features, label,\n",
    "test_size=0.20, random_state=1)\n",
    "\n",
    "\n"
   ]
  },
  {
   "cell_type": "markdown",
   "metadata": {},
   "source": [
    "<h4> KNN CLASIFICATION PROCESS </h4>"
   ]
  },
  {
   "cell_type": "code",
   "execution_count": null,
   "metadata": {},
   "outputs": [],
   "source": []
  },
  {
   "cell_type": "code",
   "execution_count": 44,
   "metadata": {},
   "outputs": [
    {
     "data": {
      "text/plain": [
       "KNeighborsClassifier(algorithm='auto', leaf_size=30, metric='minkowski',\n",
       "                     metric_params=None, n_jobs=None, n_neighbors=2, p=2,\n",
       "                     weights='uniform')"
      ]
     },
     "execution_count": 44,
     "metadata": {},
     "output_type": "execute_result"
    }
   ],
   "source": [
    "from sklearn.neighbors import KNeighborsClassifier\n",
    "knn = KNeighborsClassifier(n_neighbors=2)\n",
    "knn.fit(X_train,y_train)\n"
   ]
  },
  {
   "cell_type": "code",
   "execution_count": 11,
   "metadata": {},
   "outputs": [
    {
     "name": "stdout",
     "output_type": "stream",
     "text": [
      "[2 2 1 1 1 2 1 1 1 1 1 1 1 1 1 1 1 1 1 1 1 1 1 2 1 1 1 1 1 2 1 1 1 2]\n"
     ]
    }
   ],
   "source": [
    "pred = knn.predict(X_test)\n",
    "print(pred)  # ---> Y^ "
   ]
  },
  {
   "cell_type": "code",
   "execution_count": 12,
   "metadata": {
    "scrolled": true
   },
   "outputs": [
    {
     "name": "stdout",
     "output_type": "stream",
     "text": [
      "              precision    recall  f1-score   support\n",
      "\n",
      "           1       0.57      0.84      0.68        19\n",
      "           2       0.50      0.20      0.29        15\n",
      "\n",
      "    accuracy                           0.56        34\n",
      "   macro avg       0.54      0.52      0.48        34\n",
      "weighted avg       0.54      0.56      0.51        34\n",
      "\n"
     ]
    }
   ],
   "source": [
    "\n",
    "from sklearn.metrics import classification_report, confusion_matrix\n",
    "print(classification_report(y_test, pred))  # EQ of RMSE y-Y^ "
   ]
  },
  {
   "cell_type": "code",
   "execution_count": 13,
   "metadata": {
    "scrolled": true
   },
   "outputs": [
    {
     "name": "stdout",
     "output_type": "stream",
     "text": [
      "TN - True Negative 16\n",
      "FP - False Positive 3\n",
      "FN - False Negative 12\n",
      "TP - True Positive 3\n",
      "Accuracy Rate: 0.5588235294117647\n",
      "Misclassification Rate: 0.4411764705882353\n"
     ]
    }
   ],
   "source": [
    "# Print out confusion matrix\n",
    "cmat = confusion_matrix(y_test, pred)\n",
    "#print(cmat)\n",
    "print('TN - True Negative {}'.format(cmat[0,0]))\n",
    "print('FP - False Positive {}'.format(cmat[0,1]))\n",
    "print('FN - False Negative {}'.format(cmat[1,0]))\n",
    "print('TP - True Positive {}'.format(cmat[1,1]))\n",
    "print('Accuracy Rate: {}'.format(np.divide(np.sum([cmat[0,0],cmat[1,1]]),np.sum(cmat))))\n",
    "print('Misclassification Rate: {}'.format(np.divide(np.sum([cmat[0,1],cmat[1,0]]),np.sum(cmat))))"
   ]
  },
  {
   "cell_type": "code",
   "execution_count": 14,
   "metadata": {},
   "outputs": [
    {
     "name": "stdout",
     "output_type": "stream",
     "text": [
      "[2 1 1 1 1 2 1 1 1 1 1 1 1 1 1 2 1 1 1 1 1 1 1 1 1 1 1 1 1 1 2 2 1 2]\n"
     ]
    }
   ],
   "source": [
    "from sklearn.svm import SVC\n",
    "clf = SVC(gamma='auto')\n",
    "clf.fit(X_train,y_train)\n",
    "pred=clf.predict(X_test)\n",
    "print(pred) "
   ]
  },
  {
   "cell_type": "markdown",
   "metadata": {},
   "source": [
    "<h4>Confusion Matrix</h4>"
   ]
  },
  {
   "cell_type": "code",
   "execution_count": 15,
   "metadata": {},
   "outputs": [
    {
     "name": "stdout",
     "output_type": "stream",
     "text": [
      "              precision    recall  f1-score   support\n",
      "\n",
      "           1       0.54      0.79      0.64        19\n",
      "           2       0.33      0.13      0.19        15\n",
      "\n",
      "    accuracy                           0.50        34\n",
      "   macro avg       0.43      0.46      0.41        34\n",
      "weighted avg       0.45      0.50      0.44        34\n",
      "\n",
      "TN - True Negative 15\n",
      "FP - False Positive 4\n",
      "FN - False Negative 13\n",
      "TP - True Positive 2\n",
      "Accuracy Rate: 0.5\n",
      "Misclassification Rate: 0.5\n"
     ]
    }
   ],
   "source": [
    "from sklearn.metrics import classification_report, confusion_matrix\n",
    "print(classification_report(y_test, pred))  # EQ of RMSE y-Y^ \n",
    "\n",
    "\n",
    "# Print out confusion matrix\n",
    "cmat = confusion_matrix(y_test, pred)\n",
    "#print(cmat)\n",
    "print('TN - True Negative {}'.format(cmat[0,0]))\n",
    "print('FP - False Positive {}'.format(cmat[0,1]))\n",
    "print('FN - False Negative {}'.format(cmat[1,0]))\n",
    "print('TP - True Positive {}'.format(cmat[1,1]))\n",
    "print('Accuracy Rate: {}'.format(np.divide(np.sum([cmat[0,0],cmat[1,1]]),np.sum(cmat))))\n",
    "print('Misclassification Rate: {}'.format(np.divide(np.sum([cmat[0,1],cmat[1,0]]),np.sum(cmat))))"
   ]
  },
  {
   "cell_type": "markdown",
   "metadata": {},
   "source": [
    "<h4>Train test Score for SVC </h4>"
   ]
  },
  {
   "cell_type": "code",
   "execution_count": 17,
   "metadata": {
    "scrolled": false
   },
   "outputs": [
    {
     "name": "stdout",
     "output_type": "stream",
     "text": [
      "Test Score FOR SVC : 0.5 Training Score: 0.9852941176470589 Seed: 1\n",
      "Test Score FOR SVC : 0.6764705882352942 Training Score: 0.9705882352941176 Seed: 2\n",
      "Test Score FOR SVC : 0.6176470588235294 Training Score: 0.9779411764705882 Seed: 3\n",
      "Test Score FOR SVC : 0.5294117647058824 Training Score: 0.9779411764705882 Seed: 4\n",
      "Test Score FOR SVC : 0.6176470588235294 Training Score: 0.9779411764705882 Seed: 5\n",
      "Test Score FOR SVC : 0.5882352941176471 Training Score: 0.9852941176470589 Seed: 6\n",
      "Test Score FOR SVC : 0.5882352941176471 Training Score: 0.9632352941176471 Seed: 7\n",
      "Test Score FOR SVC : 0.6764705882352942 Training Score: 0.9705882352941176 Seed: 8\n",
      "Test Score FOR SVC : 0.7352941176470589 Training Score: 0.9558823529411765 Seed: 9\n",
      "Test Score FOR SVC : 0.5588235294117647 Training Score: 0.9705882352941176 Seed: 10\n",
      "Test Score FOR SVC : 0.7058823529411765 Training Score: 0.9926470588235294 Seed: 11\n",
      "Test Score FOR SVC : 0.5 Training Score: 0.9558823529411765 Seed: 12\n",
      "Test Score FOR SVC : 0.6176470588235294 Training Score: 0.9705882352941176 Seed: 13\n",
      "Test Score FOR SVC : 0.6470588235294118 Training Score: 0.9558823529411765 Seed: 14\n",
      "Test Score FOR SVC : 0.7058823529411765 Training Score: 0.9705882352941176 Seed: 15\n",
      "Test Score FOR SVC : 0.5882352941176471 Training Score: 0.9705882352941176 Seed: 16\n",
      "Test Score FOR SVC : 0.6764705882352942 Training Score: 0.9632352941176471 Seed: 17\n",
      "Test Score FOR SVC : 0.6176470588235294 Training Score: 0.9632352941176471 Seed: 18\n",
      "Test Score FOR SVC : 0.6470588235294118 Training Score: 0.9558823529411765 Seed: 19\n"
     ]
    }
   ],
   "source": [
    "from sklearn.model_selection import train_test_split\n",
    "from sklearn.linear_model import LinearRegression\n",
    "\n",
    "for randomState in range(1,20):\n",
    "    X_train,X_test,y_train,y_test = train_test_split(features,label, test_size=0.2, random_state=randomState)\n",
    "    \n",
    "\n",
    "    clf.fit(X_train,y_train)\n",
    "    \n",
    "    train_score = clf.score(X_train,y_train)\n",
    "    test_score = clf.score(X_test,y_test)\n",
    "    \n",
    "    if test_score < train_score:\n",
    "        print(\"Test Score FOR SVC : {} Training Score: {} Seed: {}\".format(test_score,train_score,randomState))"
   ]
  },
  {
   "cell_type": "markdown",
   "metadata": {},
   "source": [
    "<h4>Train test Score for KNN </h4>"
   ]
  },
  {
   "cell_type": "code",
   "execution_count": 19,
   "metadata": {},
   "outputs": [
    {
     "name": "stdout",
     "output_type": "stream",
     "text": [
      "Test Score FOR KNN : 0.5588235294117647 Training Score: 0.8382352941176471 Seed: 1\n",
      "Test Score FOR KNN : 0.6470588235294118 Training Score: 0.8088235294117647 Seed: 2\n",
      "Test Score FOR KNN : 0.5882352941176471 Training Score: 0.7573529411764706 Seed: 3\n",
      "Test Score FOR KNN : 0.5588235294117647 Training Score: 0.8235294117647058 Seed: 4\n",
      "Test Score FOR KNN : 0.5882352941176471 Training Score: 0.8014705882352942 Seed: 5\n",
      "Test Score FOR KNN : 0.7058823529411765 Training Score: 0.8161764705882353 Seed: 6\n",
      "Test Score FOR KNN : 0.5882352941176471 Training Score: 0.8014705882352942 Seed: 7\n",
      "Test Score FOR KNN : 0.7352941176470589 Training Score: 0.7941176470588235 Seed: 8\n",
      "Test Score FOR KNN : 0.7058823529411765 Training Score: 0.7794117647058824 Seed: 9\n",
      "Test Score FOR KNN : 0.5294117647058824 Training Score: 0.8161764705882353 Seed: 10\n",
      "Test Score FOR KNN : 0.5882352941176471 Training Score: 0.7941176470588235 Seed: 12\n",
      "Test Score FOR KNN : 0.6764705882352942 Training Score: 0.7941176470588235 Seed: 13\n",
      "Test Score FOR KNN : 0.7058823529411765 Training Score: 0.8161764705882353 Seed: 14\n",
      "Test Score FOR KNN : 0.5882352941176471 Training Score: 0.8088235294117647 Seed: 15\n",
      "Test Score FOR KNN : 0.6470588235294118 Training Score: 0.7426470588235294 Seed: 16\n",
      "Test Score FOR KNN : 0.7058823529411765 Training Score: 0.7794117647058824 Seed: 18\n",
      "Test Score FOR KNN : 0.7058823529411765 Training Score: 0.8161764705882353 Seed: 19\n"
     ]
    }
   ],
   "source": [
    "from sklearn.model_selection import train_test_split\n",
    "from sklearn.linear_model import LinearRegression\n",
    "\n",
    "for randomState in range(1,20):\n",
    "    X_train,X_test,y_train,y_test = train_test_split(features,label, test_size=0.2, random_state=randomState)\n",
    "    \n",
    "\n",
    "    knn.fit(X_train,y_train)\n",
    "    \n",
    "    train_score = knn.score(X_train,y_train)\n",
    "    test_score = knn.score(X_test,y_test)\n",
    "    \n",
    "    if test_score < train_score:\n",
    "        print(\"Test Score FOR KNN : {} Training Score: {} Seed: {}\".format(test_score,train_score,randomState))"
   ]
  },
  {
   "cell_type": "code",
   "execution_count": null,
   "metadata": {},
   "outputs": [],
   "source": []
  }
 ],
 "metadata": {
  "kernelspec": {
   "display_name": "Python 3",
   "language": "python",
   "name": "python3"
  },
  "language_info": {
   "codemirror_mode": {
    "name": "ipython",
    "version": 3
   },
   "file_extension": ".py",
   "mimetype": "text/x-python",
   "name": "python",
   "nbconvert_exporter": "python",
   "pygments_lexer": "ipython3",
   "version": "3.7.3"
  }
 },
 "nbformat": 4,
 "nbformat_minor": 2
}
