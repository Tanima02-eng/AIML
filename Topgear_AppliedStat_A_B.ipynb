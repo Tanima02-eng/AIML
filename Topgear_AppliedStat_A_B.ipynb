{
 "cells": [
  {
   "cell_type": "code",
   "execution_count": 7,
   "metadata": {},
   "outputs": [
    {
     "name": "stdout",
     "output_type": "stream",
     "text": [
      "Column headings:\n",
      "Index(['Emp#', 'YearsOfExp', 'Salary in Rs.'], dtype='object')\n"
     ]
    }
   ],
   "source": [
    "import pandas as pd\n",
    "from pandas import ExcelWriter\n",
    "from pandas import ExcelFile\n",
    "\n",
    "df = pd.read_excel('Stats.xlsx')\n",
    "\n",
    "print(\"Column headings:\")\n",
    "print(df.columns)"
   ]
  },
  {
   "cell_type": "code",
   "execution_count": 10,
   "metadata": {},
   "outputs": [
    {
     "name": "stdout",
     "output_type": "stream",
     "text": [
      "Emp#                13.0\n",
      "YearsOfExp           6.2\n",
      "Salary in Rs.    77821.2\n",
      "dtype: float64\n"
     ]
    }
   ],
   "source": [
    "print(\"\\n----------- Calculate Mean -----------\\n\")\n",
    "print(df.mean())\n",
    " \n",
    "print(\"\\n----------- Calculate Median -----------\\n\")\n",
    "print(df.median())\n",
    " \n",
    "print(\"\\n----------- Calculate Mode -----------\\n\")\n",
    "print(df.mode())\n"
   ]
  },
  {
   "cell_type": "code",
   "execution_count": 12,
   "metadata": {},
   "outputs": [
    {
     "name": "stdout",
     "output_type": "stream",
     "text": [
      "\n",
      "----------- Calculate variance -----------\n",
      "\n",
      "Emp#             5.416667e+01\n",
      "YearsOfExp       9.680000e+00\n",
      "Salary in Rs.    1.587832e+09\n",
      "dtype: float64\n",
      "\n",
      "----------- Calculate Standard deviation -----------\n",
      "\n",
      "Emp#                 7.359801\n",
      "YearsOfExp           3.111270\n",
      "Salary in Rs.    39847.615281\n",
      "dtype: float64\n"
     ]
    }
   ],
   "source": [
    "print(\"\\n----------- Calculate variance -----------\\n\")\n",
    "print(df.var()) \n",
    "print(\"\\n----------- Calculate Standard deviation -----------\\n\")\n",
    "print(df.std())"
   ]
  },
  {
   "cell_type": "code",
   "execution_count": null,
   "metadata": {},
   "outputs": [],
   "source": [
    "clear"
   ]
  },
  {
   "cell_type": "code",
   "execution_count": null,
   "metadata": {},
   "outputs": [],
   "source": []
  }
 ],
 "metadata": {
  "kernelspec": {
   "display_name": "Python 3",
   "language": "python",
   "name": "python3"
  },
  "language_info": {
   "codemirror_mode": {
    "name": "ipython",
    "version": 3
   },
   "file_extension": ".py",
   "mimetype": "text/x-python",
   "name": "python",
   "nbconvert_exporter": "python",
   "pygments_lexer": "ipython3",
   "version": "3.7.4"
  }
 },
 "nbformat": 4,
 "nbformat_minor": 2
}
